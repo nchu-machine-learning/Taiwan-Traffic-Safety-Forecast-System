{
 "cells": [
  {
   "cell_type": "markdown",
   "metadata": {},
   "source": [
    "# Import Packages"
   ]
  },
  {
   "cell_type": "code",
   "execution_count": 1,
   "metadata": {},
   "outputs": [],
   "source": [
    "import warnings \n",
    "warnings.simplefilter(action='ignore')\n",
    "import pandas as pd\n",
    "import os\n",
    "import sys\n",
    "parent_path = os.path.join(os.getcwd(), '..')\n",
    "if parent_path not in sys.path:\n",
    "    sys.path.append(parent_path)\n",
    "import pickle\n",
    "from pypinyin import pinyin, Style\n",
    "\n",
    "import numpy as np\n",
    "from utility.utils import select_model, autoregressive_predicting\n",
    "from utility.data import data_imputer, data_slicing, \\\n",
    "    transformer_slice, get_dict_from_pd, train_test_split\n",
    "from utility.visuals import plot_time_series, yield_visuals\n",
    "from model.gpt import GPT_fit, GPT_predict, get_desired_sequence\n",
    "from sklearn.ensemble import RandomForestRegressor, GradientBoostingRegressor, \\\n",
    "AdaBoostRegressor\n",
    "from IPython.display import clear_output\n",
    "from tqdm import tqdm\n"
   ]
  },
  {
   "cell_type": "markdown",
   "metadata": {},
   "source": [
    "# Retrieve Data"
   ]
  },
  {
   "cell_type": "code",
   "execution_count": 2,
   "metadata": {},
   "outputs": [],
   "source": [
    "\n",
    "with open('../Data/source_data.pkl', 'rb') as f:\n",
    "    df = pickle.load(f)\n",
    "df_list, date_range = data_imputer(df)\n",
    "date_num = date_range.values\n",
    "sequences = get_dict_from_pd(df_list, 'address1', '受傷')"
   ]
  },
  {
   "cell_type": "markdown",
   "metadata": {},
   "source": [
    "# Data splitting / slicing"
   ]
  },
  {
   "cell_type": "code",
   "execution_count": null,
   "metadata": {},
   "outputs": [],
   "source": [
    "import torch\n",
    "\n",
    "prediction_map = {}\n",
    "device = torch.device('cpu')\n",
    "for curr_address in tqdm(sequences.keys()):\n",
    "    length = sequences[curr_address].shape[0]\n",
    "    train, test = train_test_split(sequences[curr_address], length)\n",
    "    train_x, train_y, final_segment = data_slicing(train, 150)\n",
    "    train_x_g, train_y_g, final_segment = transformer_slice(train, 150)\n",
    "    pinyin_result = pinyin(curr_address, style=Style.TONE3)\n",
    "    \n",
    "    roman_representation = \"_\".join([item[0] for item in pinyin_result])\n",
    "    # plot_time_series(train, test, xticks=date_num, title=roman_representation, pred=np.array([]), saving=True)\n",
    "    plot_time_series(train, test, xticks=date_num, title=roman_representation \\\n",
    "                 + \"/avg\\n\", pred=np.mean(train) * np.ones_like(test), saving=True)    \n",
    "    g_loss = yield_visuals(GradientBoostingRegressor, final_segment, {},\\\n",
    "                train_x, train_y, train, test, date_num, roman_representation, saving=True)\n",
    "    r_loss = yield_visuals(RandomForestRegressor, final_segment, {},\\\n",
    "                train_x, train_y, train, test, date_num, roman_representation, saving=True)\n",
    "    a_loss = yield_visuals(AdaBoostRegressor, final_segment, {},\\\n",
    "                train_x, train_y, train, test, date_num, roman_representation, saving=True)\n",
    "        \n",
    "    trainer, model, final_segment = GPT_fit(train, checkpoint_dir='../output/result/' + roman_representation, trained=True, device=device)\n",
    "    pred = GPT_predict(model, final_segment, 300, device=device)\n",
    "    pred_list = get_desired_sequence(pred, final_segment, test)\n",
    "    gpt_loss = plot_time_series(train, test, xticks=date_num, pred=pred_list, title=roman_representation + \"_GPT\", saving=True)\n",
    "    \n",
    "    ran = select_model(RandomForestRegressor, {}, train_x, train_y)\n",
    "    ran_pred = autoregressive_predicting(ran, final_segment, len(test))\n",
    "    \n",
    "    prediction_map[roman_representation] = {\n",
    "        'GradientBoost': g_loss['dtw'],\n",
    "        'RandomForest': r_loss['dtw'],\n",
    "        'Adaboost': a_loss['dtw'],\n",
    "        'GPT': gpt_loss['dtw']\n",
    "    }\n",
    "\n",
    "\n",
    "    # clear_output(wait=True)\n",
    "\n"
   ]
  },
  {
   "cell_type": "code",
   "execution_count": 8,
   "metadata": {},
   "outputs": [],
   "source": [
    "# with open('../output/loss.pkl', 'wb') as f:\n",
    "#     pickle.dump(prediction_map, f)\n"
   ]
  },
  {
   "cell_type": "code",
   "execution_count": null,
   "metadata": {},
   "outputs": [],
   "source": [
    "import matplotlib.pyplot as plt\n",
    "with open('../output/loss.pkl', 'rb') as f:\n",
    "    prediction_map = pickle.load(f)\n",
    "\n",
    "gradient_list = []\n",
    "random_list = []\n",
    "ada_list = []\n",
    "GPT_list = []\n",
    "for losses in list(prediction_map.values()):\n",
    "    gradient_list.append(losses['GradientBoost'])\n",
    "    random_list.append(losses['RandomForest'])\n",
    "    ada_list.append(losses['Adaboost'])\n",
    "    GPT_list.append(losses['GPT'])\n",
    "num_sequences = len(sequences)\n",
    "bar_width = .2\n",
    "indices = np.arange(num_sequences)\n",
    "\n",
    "plt.figure(figsize=(12, 6))\n",
    "\n",
    "# Calculate the positions for each set of bars\n",
    "positions_gradient = indices - 1.5 * bar_width\n",
    "positions_random = indices - 0.5 * bar_width\n",
    "positions_ada = indices + 0.5 * bar_width\n",
    "positions_GPT = indices + 1.5 * bar_width\n",
    "xticks = np.array([    \"_\".join([item[0] for item in pinyin(k, style=Style.TONE3)]) for k in sequences.keys()])\n",
    "plt.bar(positions_gradient, gradient_list, width=bar_width, label='Gradient_boost')\n",
    "plt.bar(positions_ada, ada_list, width=bar_width, label='Adaboost')\n",
    "plt.bar(positions_random, random_list, width=bar_width, label='Random forest')\n",
    "plt.bar(positions_GPT, GPT_list, width=bar_width, label='GPT')\n",
    "plt.xticks(indices, xticks, rotation=60)\n",
    "plt.title(\"DTW(dynamic time warping) scores by different models\")\n",
    "plt.xlabel(\"city\")\n",
    "plt.ylabel('dtw')\n",
    "plt.legend()\n",
    "plt.show()"
   ]
  },
  {
   "cell_type": "code",
   "execution_count": null,
   "metadata": {},
   "outputs": [],
   "source": [
    "np.mean(gradient_list), np.mean(GPT_list), np.mean(random_list), np.mean(ada_list)"
   ]
  },
  {
   "cell_type": "code",
   "execution_count": null,
   "metadata": {},
   "outputs": [],
   "source": [
    "GPT_list"
   ]
  },
  {
   "cell_type": "code",
   "execution_count": null,
   "metadata": {},
   "outputs": [],
   "source": [
    "positions_ada"
   ]
  }
 ],
 "metadata": {
  "kernelspec": {
   "display_name": "base",
   "language": "python",
   "name": "python3"
  },
  "language_info": {
   "codemirror_mode": {
    "name": "ipython",
    "version": 3
   },
   "file_extension": ".py",
   "mimetype": "text/x-python",
   "name": "python",
   "nbconvert_exporter": "python",
   "pygments_lexer": "ipython3",
   "version": "3.11.5"
  }
 },
 "nbformat": 4,
 "nbformat_minor": 2
}
