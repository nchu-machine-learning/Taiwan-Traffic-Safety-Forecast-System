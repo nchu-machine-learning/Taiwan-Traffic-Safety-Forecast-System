{
 "cells": [
  {
   "cell_type": "code",
   "execution_count": 1,
   "metadata": {},
   "outputs": [],
   "source": [
    "import warnings\n",
    "warnings.simplefilter(action='ignore')\n",
    "import os\n",
    "import sys\n",
    "import pickle\n",
    "parent_dir = os.path.join(os.getcwd(), '..')\n",
    "if parent_dir not in sys.path:\n",
    "    sys.path.append(parent_dir)\n",
    "from api.source import forecast\n"
   ]
  },
  {
   "cell_type": "code",
   "execution_count": 2,
   "metadata": {},
   "outputs": [
    {
     "name": "stderr",
     "output_type": "stream",
     "text": [
      "100%|██████████| 99/99 [00:01<00:00, 65.41it/s]\n"
     ]
    },
    {
     "data": {
      "text/plain": [
       "(100,\n",
       " 'tai2_bei3_shi4',\n",
       " [array([97.]), array([97.]), array([97.]), array([77.])])"
      ]
     },
     "execution_count": 2,
     "metadata": {},
     "output_type": "execute_result"
    }
   ],
   "source": [
    "with open('../data/source_data.pkl', 'rb') as f:\n",
    "    data = pickle.load(f) \n",
    "pred, pinyin, training_data, (start_date, end_date) = forecast(data, model_name='RandomForest', city_name='臺北市', num_of_days=100)\n",
    "pred.__len__(), pinyin, pred[:4]"
   ]
  },
  {
   "cell_type": "code",
   "execution_count": null,
   "metadata": {},
   "outputs": [],
   "source": [
    "\n",
    "pred_g, pinyin, training_data_g, (start_date_g, end_date_g) = forecast(data, model_name='GPT', city_name='臺中市', num_of_days=10)\n",
    "pred_g.__len__(), pinyin, pred_g[:4]"
   ]
  }
 ],
 "metadata": {
  "kernelspec": {
   "display_name": "base",
   "language": "python",
   "name": "python3"
  },
  "language_info": {
   "codemirror_mode": {
    "name": "ipython",
    "version": 3
   },
   "file_extension": ".py",
   "mimetype": "text/x-python",
   "name": "python",
   "nbconvert_exporter": "python",
   "pygments_lexer": "ipython3",
   "version": "3.11.5"
  }
 },
 "nbformat": 4,
 "nbformat_minor": 2
}
